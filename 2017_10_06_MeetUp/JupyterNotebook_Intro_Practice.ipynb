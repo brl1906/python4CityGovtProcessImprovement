{
 "cells": [
  {
   "cell_type": "markdown",
   "metadata": {},
   "source": [
    "# Python/Jupyter Notebook examples and notes"
   ]
  },
  {
   "cell_type": "code",
   "execution_count": null,
   "metadata": {},
   "outputs": [],
   "source": [
    "\"\"\"Write code in these 'cells' \n",
    "\n",
    "You can write as much as you want in one cell, but it'll help most to write in small enough blocks \n",
    "so that each  cell has one main function. This way, you'll be able to easily identify where you might\n",
    "have bugs in your code\n",
    "\n",
    "In order to run the code in a cell, hold Shift + Enter\n",
    "\"\"\""
   ]
  },
  {
   "cell_type": "code",
   "execution_count": null,
   "metadata": {
    "collapsed": true
   },
   "outputs": [],
   "source": [
    "#you can also write notes within each cell by either putting a hashtag at the front of the line you're writing (like this)\n",
    "#Notes help you keep track of your code and help other people better interpret your code and thought process\n",
    "#but this note-taking method can get annoying if you need to write a lot of notes\n",
    "#at any point in your code\n",
    "#because you need\n",
    "#to put a hashtag\n",
    "#in\n",
    "#front\n",
    "#of\n",
    "#every\n",
    "#line"
   ]
  },
  {
   "cell_type": "code",
   "execution_count": null,
   "metadata": {},
   "outputs": [],
   "source": [
    "\"\"\"If you need to write a lot of notes,\n",
    "put the entire block of text in three sets of quotes\n",
    "and you can write\n",
    "however\n",
    "much\n",
    "you\n",
    "want\n",
    "as\n",
    "one\n",
    "note\n",
    "\n",
    "Notes are ignored when your code runs, so you should write as much as you think is necessary!\"\"\""
   ]
  },
  {
   "cell_type": "code",
   "execution_count": null,
   "metadata": {
    "collapsed": true
   },
   "outputs": [],
   "source": [
    "#You can also keep notes in Jupyter Notebook by \"Marking Down\" the cell\n",
    "#either, press ESC + M, your note, then Shift + Enter\n",
    "#Or, click on the cell, then click on the dropdown menu that says \"Code\" under Kernel and Widgets in the main menu, and \n",
    "#choose Markdown after you've typed your note"
   ]
  },
  {
   "cell_type": "markdown",
   "metadata": {},
   "source": [
    "A Markdown will look like this"
   ]
  },
  {
   "cell_type": "markdown",
   "metadata": {},
   "source": [
    "# Here are some Python notes that might be helpful"
   ]
  },
  {
   "cell_type": "markdown",
   "metadata": {},
   "source": [
    "Printing"
   ]
  },
  {
   "cell_type": "code",
   "execution_count": null,
   "metadata": {},
   "outputs": [],
   "source": [
    "#A simple first task is to print something in Python\n",
    "#the code below will print anything that is inside the parentheses; the p needs to be lowercase\n",
    "\n",
    "print (\"This text will be printed if you run the code\")\n",
    "\n",
    "#Change the text in the quotes to try an example for yourself\n",
    "#This is neat and helpful, but doesn't help us much in analysis..."
   ]
  },
  {
   "cell_type": "markdown",
   "metadata": {},
   "source": [
    "Variables"
   ]
  },
  {
   "cell_type": "code",
   "execution_count": null,
   "metadata": {},
   "outputs": [],
   "source": [
    "#we can store information in Python as Variables\n",
    "#you can name variables whatever you want as long as the name doesn't contain spaces\n",
    "#and as long as the name doesn't have another function in Python or start with a digit\n",
    "\n",
    "#for example\n",
    "#we can name a variable 'month'\n",
    "\n",
    "month = 10\n",
    "\n",
    "#but we can't name a variable 'True'\n",
    "\n",
    "2month = 10\n",
    "\n",
    "#if you run this code, you'll get an error message unless you change 2month to another word"
   ]
  },
  {
   "cell_type": "markdown",
   "metadata": {},
   "source": [
    "Different Kinds of Information/Data"
   ]
  },
  {
   "cell_type": "code",
   "execution_count": null,
   "metadata": {
    "collapsed": true
   },
   "outputs": [],
   "source": [
    "#We can store and use different kinds of data, for example:\n",
    "\n",
    "var1 = 2       #this is an integer; can be used in numerical calculations\n",
    "var2 = 2.4     #this is a float (i.e. a decimal); can be used in numerical calculations\n",
    "var3 = 'month' #this is a string; cannot be used in numberical calulations even if it is a number such as\n",
    "var4 = '2'\n",
    "\n",
    "#there are other types of data storage that aren't too important for our current exercises\n",
    "#so we'll mention those as they become relevant"
   ]
  },
  {
   "cell_type": "markdown",
   "metadata": {},
   "source": [
    "Mathematical Functions"
   ]
  },
  {
   "cell_type": "code",
   "execution_count": null,
   "metadata": {},
   "outputs": [],
   "source": [
    "#mathematical functions in Python are pretty straightforward\n",
    "#you can change the numbers in these to get different answers\n",
    "\n",
    "#Addition\n",
    "3 + 4"
   ]
  },
  {
   "cell_type": "code",
   "execution_count": null,
   "metadata": {},
   "outputs": [],
   "source": [
    "#Subtraction\n",
    "4-3"
   ]
  },
  {
   "cell_type": "code",
   "execution_count": null,
   "metadata": {},
   "outputs": [],
   "source": [
    "#Multiplication\n",
    "3*4"
   ]
  },
  {
   "cell_type": "code",
   "execution_count": null,
   "metadata": {},
   "outputs": [],
   "source": [
    "#Division\n",
    "4/2"
   ]
  },
  {
   "cell_type": "code",
   "execution_count": null,
   "metadata": {},
   "outputs": [],
   "source": [
    "#we can also store variables and perform calculations on said variables by using an equals sign. i.e.\n",
    "\n",
    "var1 = 5\n",
    "var2 = 4836\n",
    "\n",
    "calc = var1*var2\n",
    "\n",
    "print(calc)\n",
    "\n",
    "#this is nice in case we need to change the actual numbers later, but want to keep the same calculation\n",
    "#so we don't need to parse through the code to find all instances of this particular number\n",
    "#change the numbers or variable names to play around with this code"
   ]
  },
  {
   "cell_type": "code",
   "execution_count": null,
   "metadata": {},
   "outputs": [],
   "source": [
    "#we can also do a similar thing with strings:\n",
    "\n",
    "month = \"November\"\n",
    "week = \"first\"\n",
    "\n",
    "\"we are meeting during the \" + week + \" of \" + month\n",
    "\n",
    "#In this, Python adds all of the letters together, so you'll need to add in spaces if you want a readable sentence"
   ]
  },
  {
   "cell_type": "code",
   "execution_count": null,
   "metadata": {},
   "outputs": [],
   "source": [
    "#Some ntoes about syntax:\n",
    "#capitalization is important (var1 and Var1 are two different variables)\n",
    "#the last variable with a specific name will be used, so don't re-use variable names\n",
    "#change the first var1 a few times to see how this works\n",
    "\n",
    "var1 = 3\n",
    "Var1 = 5\n",
    "var1 = 5\n",
    "\n",
    "add = var1 + Var1\n",
    "\n",
    "print(add)"
   ]
  },
  {
   "cell_type": "markdown",
   "metadata": {},
   "source": [
    "Other operators"
   ]
  },
  {
   "cell_type": "code",
   "execution_count": null,
   "metadata": {},
   "outputs": [],
   "source": [
    "#we can also use > , < , >= , <= , == , !=  to compare ints, floats, and strings\n",
    "# > means greater than\n",
    "# < means less than\n",
    "# >= means greater than or equal to\n",
    "# <= means less than or equal to\n",
    "# == means equal to\n",
    "# != means not equal to\n",
    "\n",
    "#for example: \n",
    "\n",
    "less_than = 2<5\n",
    "greater_or_equal = 8>=1\n",
    "equal_to = 4 ==4\n",
    "\n",
    "print(less_than)\n",
    "print(greater_or_equal)\n",
    "print(equal_to)"
   ]
  },
  {
   "cell_type": "markdown",
   "metadata": {},
   "source": [
    "Combining Ints/Floats and Strings"
   ]
  },
  {
   "cell_type": "code",
   "execution_count": null,
   "metadata": {},
   "outputs": [],
   "source": [
    "#if we want to print something that combines different kinds of data\n",
    "#then all components need to be the same kind of variable\n",
    "#since integers and strings can't be made up of letters,\n",
    "#we'll change numbers to strings in the example below:\n",
    "#rename the varialbes \n",
    "\n",
    "name = 'Melanie'\n",
    "home = 'Baltimore'\n",
    "pet = 1\n",
    "\n",
    "\n",
    "print(\"My name is \" + name + \". I live in \" + home + \", and I have \" + str(pet) + \" pet(s).\")"
   ]
  },
  {
   "cell_type": "code",
   "execution_count": null,
   "metadata": {
    "collapsed": true
   },
   "outputs": [],
   "source": []
  }
 ],
 "metadata": {
  "kernelspec": {
   "display_name": "Python 3",
   "language": "python",
   "name": "python3"
  },
  "language_info": {
   "codemirror_mode": {
    "name": "ipython",
    "version": 3
   },
   "file_extension": ".py",
   "mimetype": "text/x-python",
   "name": "python",
   "nbconvert_exporter": "python",
   "pygments_lexer": "ipython3",
   "version": "3.6.1"
  }
 },
 "nbformat": 4,
 "nbformat_minor": 2
}
