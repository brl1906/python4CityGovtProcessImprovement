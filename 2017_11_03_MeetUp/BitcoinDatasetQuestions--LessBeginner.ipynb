{
 "cells": [
  {
   "cell_type": "markdown",
   "metadata": {},
   "source": [
    "# <font color=red>What insights can we glean from this data?</font>"
   ]
  },
  {
   "cell_type": "markdown",
   "metadata": {},
   "source": [
    "1. What was the average close or last price of Bitcoin in 2014?\n",
    "2. What was the average close or last price of Bitcoin for every year in the dataset?\n",
    "3. What was the high on Christmas eve of 2016?\n",
    "4. What are the top 5 months with the highest average trading volume in the dataset? \n",
    "5. What are the top 12 months with the highest average trading volume in the dataset?\n",
    "6. How has trading volume chagned over time? (<font color=red>After you isolote all the volume data simply type the following to the end of it to visualize the answer: add '.plot( )'</font>) \n",
    "\n",
    "\n",
    "\n",
    "\n"
   ]
  }
 ],
 "metadata": {
  "kernelspec": {
   "display_name": "Python 3",
   "language": "python",
   "name": "python3"
  },
  "language_info": {
   "codemirror_mode": {
    "name": "ipython",
    "version": 3
   },
   "file_extension": ".py",
   "mimetype": "text/x-python",
   "name": "python",
   "nbconvert_exporter": "python",
   "pygments_lexer": "ipython3",
   "version": "3.6.1"
  }
 },
 "nbformat": 4,
 "nbformat_minor": 2
}
