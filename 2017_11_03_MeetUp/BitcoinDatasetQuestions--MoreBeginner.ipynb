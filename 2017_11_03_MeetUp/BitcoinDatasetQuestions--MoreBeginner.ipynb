{
 "cells": [
  {
   "cell_type": "markdown",
   "metadata": {},
   "source": [
    "# <font color=red>What insights can we glean from this data?</font>"
   ]
  },
  {
   "cell_type": "markdown",
   "metadata": {},
   "source": [
    "1. How many rows of data are in this dataset?\n",
    "2. How many and what are the names of the columns in the dataset?\n",
    "3. What are the types of data in each column? \n",
    "4. What is the highest daily trading volume? \n",
    "5. What is the lowest daily trading volume? \n",
    "6. What is the highest Low? \n",
    "7. What is the highest High?\n"
   ]
  },
  {
   "cell_type": "code",
   "execution_count": null,
   "metadata": {
    "collapsed": true
   },
   "outputs": [],
   "source": []
  }
 ],
 "metadata": {
  "kernelspec": {
   "display_name": "Python 3",
   "language": "python",
   "name": "python3"
  },
  "language_info": {
   "codemirror_mode": {
    "name": "ipython",
    "version": 3
   },
   "file_extension": ".py",
   "mimetype": "text/x-python",
   "name": "python",
   "nbconvert_exporter": "python",
   "pygments_lexer": "ipython3",
   "version": "3.6.1"
  }
 },
 "nbformat": 4,
 "nbformat_minor": 2
}
