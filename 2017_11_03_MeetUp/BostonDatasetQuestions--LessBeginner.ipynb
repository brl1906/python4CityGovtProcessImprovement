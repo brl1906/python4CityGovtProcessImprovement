{
 "cells": [
  {
   "cell_type": "markdown",
   "metadata": {},
   "source": [
    "# <font color=red>What insights can we glean from this data?</font>"
   ]
  },
  {
   "cell_type": "markdown",
   "metadata": {},
   "source": [
    "1. How many employees have the same name and work for the same department? \n",
    "\n",
    "2. Are there any employees who have the same name, work for the same department and also occupy the same title? \n",
    "\n",
    "3. How many employees does the Office of New Bostonians have and what is the average salary for that office? \n",
    "4. Is the Office of New Bostonians average total earnings above or below the city of Boston's average total earnings for all employees?\n",
    "5. What percentage of total earnings pay goes to the Police Department? \n",
    "6. What percentage of the workforce is injured and receiving some sort of injury pay? \n",
    "7. Are injured employees disproportionately in one or two units or scattered evenly?\n",
    "8. How does the average salary of Arts & Culture staff compare to that average salary of the BPS Boston Arts Academy -- the art teacher folks? "
   ]
  },
  {
   "cell_type": "code",
   "execution_count": null,
   "metadata": {
    "collapsed": true
   },
   "outputs": [],
   "source": []
  },
  {
   "cell_type": "code",
   "execution_count": null,
   "metadata": {
    "collapsed": true
   },
   "outputs": [],
   "source": []
  }
 ],
 "metadata": {
  "kernelspec": {
   "display_name": "Python 3",
   "language": "python",
   "name": "python3"
  },
  "language_info": {
   "codemirror_mode": {
    "name": "ipython",
    "version": 3
   },
   "file_extension": ".py",
   "mimetype": "text/x-python",
   "name": "python",
   "nbconvert_exporter": "python",
   "pygments_lexer": "ipython3",
   "version": "3.6.1"
  }
 },
 "nbformat": 4,
 "nbformat_minor": 2
}
