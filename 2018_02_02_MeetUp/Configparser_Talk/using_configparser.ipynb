{
 "cells": [
  {
   "cell_type": "markdown",
   "metadata": {
    "slideshow": {
     "slide_type": "slide"
    }
   },
   "source": [
    "# configparser library : 'How to share your code, protect your credentials & keep application documentation consistent'"
   ]
  },
  {
   "cell_type": "markdown",
   "metadata": {
    "slideshow": {
     "slide_type": "slide"
    }
   },
   "source": [
    "### it is a dictionary-like object"
   ]
  },
  {
   "cell_type": "code",
   "execution_count": 3,
   "metadata": {
    "collapsed": true,
    "slideshow": {
     "slide_type": "fragment"
    }
   },
   "outputs": [],
   "source": [
    "cast = {'Hockney': 'Kevin Pollack','McManus': 'Stephen Baldwin','Fenster': 'Benicio del Toro','Keaton': ':','Verbal': 'Kevin Spacey'}\n",
    "director = {'name': 'Bryan Singer'}\n",
    "greatest_movie_ever = {'directed_by':director, 'actors':cast}"
   ]
  },
  {
   "cell_type": "code",
   "execution_count": 4,
   "metadata": {
    "slideshow": {
     "slide_type": "fragment"
    }
   },
   "outputs": [
    {
     "data": {
      "text/plain": [
       "{'actors': {'Fenster': 'Benicio del Toro',\n",
       "  'Hockney': 'Kevin Pollack',\n",
       "  'Keaton': ':',\n",
       "  'McManus': 'Stephen Baldwin',\n",
       "  'Verbal': 'Kevin Spacey'},\n",
       " 'directed_by': {'name': 'Bryan Singer'}}"
      ]
     },
     "execution_count": 4,
     "metadata": {},
     "output_type": "execute_result"
    }
   ],
   "source": [
    "greatest_movie_ever"
   ]
  },
  {
   "cell_type": "markdown",
   "metadata": {
    "slideshow": {
     "slide_type": "slide"
    }
   },
   "source": [
    "### Navigating the dictionary is a bit like navigating the config file"
   ]
  },
  {
   "cell_type": "code",
   "execution_count": 5,
   "metadata": {
    "collapsed": true,
    "slideshow": {
     "slide_type": "fragment"
    }
   },
   "outputs": [],
   "source": [
    "cast.keys()"
   ]
  },
  {
   "cell_type": "code",
   "execution_count": 6,
   "metadata": {
    "collapsed": true,
    "slideshow": {
     "slide_type": "fragment"
    }
   },
   "outputs": [],
   "source": [
    "director.keys()  # accessing the dictionary's keys"
   ]
  },
  {
   "cell_type": "code",
   "execution_count": 7,
   "metadata": {
    "collapsed": true,
    "slideshow": {
     "slide_type": "fragment"
    }
   },
   "outputs": [],
   "source": [
    "director['name'] # accessing the dictionary's values"
   ]
  },
  {
   "cell_type": "code",
   "execution_count": 8,
   "metadata": {
    "collapsed": true,
    "slideshow": {
     "slide_type": "fragment"
    }
   },
   "outputs": [],
   "source": [
    "greatest_movie_ever.keys() # accessing dictionary that has 2 dictionaries as values"
   ]
  },
  {
   "cell_type": "code",
   "execution_count": 9,
   "metadata": {
    "collapsed": true,
    "slideshow": {
     "slide_type": "fragment"
    }
   },
   "outputs": [],
   "source": [
    "greatest_movie_ever['directed_by']"
   ]
  },
  {
   "cell_type": "code",
   "execution_count": 20,
   "metadata": {
    "slideshow": {
     "slide_type": "fragment"
    }
   },
   "outputs": [
    {
     "data": {
      "text/plain": [
       "'Bryan Singer'"
      ]
     },
     "execution_count": 20,
     "metadata": {},
     "output_type": "execute_result"
    }
   ],
   "source": [
    "greatest_movie_ever['directed_by']['name'] # accessing value of 1st key of dictionary "
   ]
  },
  {
   "cell_type": "markdown",
   "metadata": {
    "slideshow": {
     "slide_type": "slide"
    }
   },
   "source": [
    "# Using configparser with a messaging program in 3 steps"
   ]
  },
  {
   "cell_type": "code",
   "execution_count": 5,
   "metadata": {
    "collapsed": true,
    "slideshow": {
     "slide_type": "skip"
    }
   },
   "outputs": [],
   "source": [
    "import configparser, smtplib\n",
    "from email.mime.multipart import MIMEMultipart\n",
    "from email.mime.text import MIMEText"
   ]
  },
  {
   "cell_type": "markdown",
   "metadata": {
    "slideshow": {
     "slide_type": "slide"
    }
   },
   "source": [
    "#  1. Create Configuration Object: Read the configuration file and hold the stuffing"
   ]
  },
  {
   "cell_type": "code",
   "execution_count": 7,
   "metadata": {
    "slideshow": {
     "slide_type": "fragment"
    }
   },
   "outputs": [
    {
     "data": {
      "text/plain": [
       "['Configuration/config.py']"
      ]
     },
     "execution_count": 7,
     "metadata": {},
     "output_type": "execute_result"
    }
   ],
   "source": [
    "config = configparser.ConfigParser()\n",
    "config.read('Configuration/config.py')  "
   ]
  },
  {
   "cell_type": "markdown",
   "metadata": {
    "slideshow": {
     "slide_type": "slide"
    }
   },
   "source": [
    "# 2. Create email function to send short message"
   ]
  },
  {
   "cell_type": "code",
   "execution_count": 8,
   "metadata": {
    "collapsed": true,
    "slideshow": {
     "slide_type": "subslide"
    }
   },
   "outputs": [],
   "source": [
    "def send_email(sender,password,recipient,message):\n",
    "    \"\"\" sends email based on config \n",
    "    file items. Takes sender, recipient, \n",
    "    password and message params \"\"\"\n",
    "    \n",
    "    msg = MIMEMultipart()\n",
    "    msg['From'] = sender\n",
    "    msg['To'] = recipient\n",
    "    msg['Subject'] = 'Short message'\n",
    "    message = config['Message']['message']\n",
    "    msg.attach(MIMEText(message))\n",
    "    server = smtplib.SMTP('smtp.gmail.com',587)\n",
    "    server.ehlo()\n",
    "    server.starttls()\n",
    "    server.ehlo()\n",
    "    server.login(sender,password)\n",
    "    text = msg.as_string()\n",
    "    server.sendmail(msg['From'], msg['To'], msg.as_string())\n",
    "    server.quit()\n",
    "    print('done') "
   ]
  },
  {
   "cell_type": "markdown",
   "metadata": {
    "slideshow": {
     "slide_type": "slide"
    }
   },
   "source": [
    "# 3. Call our email function & pass values from the configparser \"dictionary\""
   ]
  },
  {
   "cell_type": "code",
   "execution_count": 10,
   "metadata": {
    "slideshow": {
     "slide_type": "fragment"
    }
   },
   "outputs": [
    {
     "name": "stdout",
     "output_type": "stream",
     "text": [
      "done\n"
     ]
    }
   ],
   "source": [
    "send_email(config['Credentials']['email_address'],\n",
    "          config['Credentials']['password'],\n",
    "           'aRandomEmail@gmail.com',\n",
    "          config['Message']['message'])\n",
    "\n",
    "# config options passed as params"
   ]
  },
  {
   "cell_type": "markdown",
   "metadata": {
    "slideshow": {
     "slide_type": "slide"
    }
   },
   "source": [
    "## How does configparser parse this config?"
   ]
  },
  {
   "cell_type": "code",
   "execution_count": 15,
   "metadata": {
    "collapsed": true,
    "slideshow": {
     "slide_type": "fragment"
    }
   },
   "outputs": [],
   "source": [
    "config.sections()  # kinda like cast.keys() in our dictionary"
   ]
  },
  {
   "cell_type": "code",
   "execution_count": null,
   "metadata": {
    "collapsed": true,
    "slideshow": {
     "slide_type": "fragment"
    }
   },
   "outputs": [],
   "source": [
    "config.sections()[0]  # accessing list by index"
   ]
  },
  {
   "cell_type": "code",
   "execution_count": 16,
   "metadata": {
    "collapsed": true,
    "slideshow": {
     "slide_type": "fragment"
    }
   },
   "outputs": [],
   "source": [
    "print('I have {} sections:\\n'.format(len(config.sections())))\n",
    "for section in config.sections():\n",
    "    print(section)"
   ]
  },
  {
   "cell_type": "code",
   "execution_count": 17,
   "metadata": {
    "collapsed": true,
    "slideshow": {
     "slide_type": "fragment"
    }
   },
   "outputs": [],
   "source": [
    "config['Credentials']['email_address'] # section & option kinda like key & value"
   ]
  },
  {
   "cell_type": "code",
   "execution_count": 11,
   "metadata": {
    "slideshow": {
     "slide_type": "fragment"
    }
   },
   "outputs": [
    {
     "name": "stdout",
     "output_type": "stream",
     "text": [
      "A short message from me to you.\n",
      "A short message from me to you.\n"
     ]
    }
   ],
   "source": [
    "# multiple ways to access the goodies\n",
    "print(config['Message']['message'])\n",
    "print(config.get('Message','message')) "
   ]
  },
  {
   "cell_type": "markdown",
   "metadata": {
    "slideshow": {
     "slide_type": "slide"
    }
   },
   "source": [
    "## Exmaple section & options config file parsing like a matroyshka"
   ]
  },
  {
   "cell_type": "code",
   "execution_count": 12,
   "metadata": {
    "slideshow": {
     "slide_type": "skip"
    }
   },
   "outputs": [
    {
     "data": {
      "text/plain": [
       "['Configuration/example.ini']"
      ]
     },
     "execution_count": 12,
     "metadata": {},
     "output_type": "execute_result"
    }
   ],
   "source": [
    "example_configParser = configparser.ConfigParser()\n",
    "example_configParser.read('Configuration/example.ini')"
   ]
  },
  {
   "cell_type": "code",
   "execution_count": 13,
   "metadata": {
    "slideshow": {
     "slide_type": "fragment"
    }
   },
   "outputs": [
    {
     "name": "stdout",
     "output_type": "stream",
     "text": [
      "Section 1 \"Credentials\" -- has a section (key) & options (value) pair:\n",
      " [('email', 'YOUR EMAIL ADDRESS'), ('password', 'YOUR PASSWORD'), ('phone', '4103961733')]\n",
      "\n",
      "Section 2 \"Message\" -- has a section (key) & options (value) pair:\n",
      " [('message', 'A short message from me to you.')]\n",
      "\n",
      "Section 3 \"Profile\" -- has a section (key) & options (value) pair:\n",
      " [('hobby', 'long walks on the beach'), ('birthday', '1/2/1945'), ('username', 'beatBrady')]\n",
      "\n",
      "Section 4 \"API Key\" -- has a section (key) & options (value) pair:\n",
      " [('key', '1234abcd5678xyz')]\n",
      "\n"
     ]
    }
   ],
   "source": [
    "for i, section in enumerate(example_configParser.sections()):\n",
    "    print('Section {} \"{}\" -- has a section (key) & options (value) pair:\\n {}\\n'.\\\n",
    "          format(i+1, section, example_configParser.items(section)))"
   ]
  },
  {
   "cell_type": "code",
   "execution_count": 18,
   "metadata": {
    "collapsed": true,
    "slideshow": {
     "slide_type": "slide"
    }
   },
   "outputs": [],
   "source": [
    "# take the dolls apart\n",
    "example_keys = []    # an empty list to hold keys\n",
    "example_values = []  # an empty list to hold values\n",
    "\n",
    "for section in example_configParser.sections():\n",
    "    example_keys.append(section)\n",
    "    example_values.append(example_configParser.items(section))"
   ]
  },
  {
   "cell_type": "code",
   "execution_count": 15,
   "metadata": {
    "slideshow": {
     "slide_type": "fragment"
    }
   },
   "outputs": [
    {
     "name": "stdout",
     "output_type": "stream",
     "text": [
      "The sections of the config file are: ['Credentials', 'Message', 'Profile', 'API Key']\n",
      "\n"
     ]
    }
   ],
   "source": [
    "print('The sections of the config file are: {}\\n'.format(example_keys)) # touch those keys (by accessing SECTIONS)"
   ]
  },
  {
   "cell_type": "code",
   "execution_count": 16,
   "metadata": {
    "slideshow": {
     "slide_type": "fragment"
    }
   },
   "outputs": [
    {
     "name": "stdout",
     "output_type": "stream",
     "text": [
      "The options of the config file are: [[('email', 'YOUR EMAIL ADDRESS'), ('password', 'YOUR PASSWORD'), ('phone', '4103961733')], [('message', 'A short message from me to you.')], [('hobby', 'long walks on the beach'), ('birthday', '1/2/1945'), ('username', 'beatBrady')], [('key', '1234abcd5678xyz')]]\n",
      "\n"
     ]
    }
   ],
   "source": [
    "print('The options of the config file are: {}\\n'.format(example_values)) # touch those values (by accessing OPTIONS)"
   ]
  },
  {
   "cell_type": "code",
   "execution_count": 19,
   "metadata": {
    "scrolled": true,
    "slideshow": {
     "slide_type": "slide"
    }
   },
   "outputs": [
    {
     "data": {
      "text/plain": [
       "{'API Key': [('key', '1234abcd5678xyz')],\n",
       " 'Credentials': [('email', 'YOUR EMAIL ADDRESS'),\n",
       "  ('password', 'YOUR PASSWORD'),\n",
       "  ('phone', '4103961733')],\n",
       " 'Message': [('message', 'A short message from me to you.')],\n",
       " 'Profile': [('hobby', 'long walks on the beach'),\n",
       "  ('birthday', '1/2/1945'),\n",
       "  ('username', 'beatBrady')]}"
      ]
     },
     "execution_count": 19,
     "metadata": {},
     "output_type": "execute_result"
    }
   ],
   "source": [
    "dict(zip(example_keys, example_values)) # bring the dolls back together"
   ]
  },
  {
   "cell_type": "markdown",
   "metadata": {},
   "source": [
    "\n"
   ]
  }
 ],
 "metadata": {
  "kernelspec": {
   "display_name": "Python 3",
   "language": "python",
   "name": "python3"
  },
  "language_info": {
   "codemirror_mode": {
    "name": "ipython",
    "version": 3
   },
   "file_extension": ".py",
   "mimetype": "text/x-python",
   "name": "python",
   "nbconvert_exporter": "python",
   "pygments_lexer": "ipython3",
   "version": "3.6.3"
  }
 },
 "nbformat": 4,
 "nbformat_minor": 2
}
